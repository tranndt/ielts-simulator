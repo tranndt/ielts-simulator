{
 "cells": [
  {
   "cell_type": "code",
   "execution_count": 68,
   "metadata": {},
   "outputs": [],
   "source": [
    "import re\n",
    "import json\n",
    "import yaml\n"
   ]
  },
  {
   "cell_type": "markdown",
   "metadata": {},
   "source": [
    "## 1. MCQ"
   ]
  },
  {
   "cell_type": "code",
   "execution_count": 3,
   "metadata": {},
   "outputs": [],
   "source": [
    "raw_passage_title = \"\"\"\\\n",
    "Academic Reading Sample Task – Multiple Choice: \n",
    "one answer\n",
    "\"\"\"\n",
    "raw_passage_subtitle = \"\"\"\\\n",
    "[Note: This is an extract from a Part 1 text about older people in the workforce.]\n",
    "\"\"\"\n",
    "raw_passage_text = \"\"\"\\\n",
    "The general assumption is that older workers are paid more in spite of, rather than because of, \n",
    "their productivity. That might partly explain why, when employers are under pressure to cut costs, \n",
    "they persuade a 55-year old to take early retirement. Take away seniority-based pay scales, and \n",
    "older workers may become a much more attractive employment proposition. But most employers \n",
    "and many workers are uncomfortable with the idea of reducing someone’s pay in later life –\n",
    "although manual workers on piece-rates often earn less as they get older. So retaining the \n",
    "services of older workers may mean employing them in different ways.\n",
    "\n",
    "One innovation was devised by IBM Belgium. Faced with the need to cut staff costs, and having \n",
    "decided to concentrate cuts on 55 to 60-year olds, IBM set up a separate company called Skill \n",
    "Team, which re-employed any of the early retired who wanted to go on working up to the age of \n",
    "60. An employee who joined Skill Team at the age of 55 on a five-year contract would work for \n",
    "58% of his time, over the full period, for 88% of his last IBM salary. The company offered services \n",
    "to IBM, thus allowing it to retain access to some of the intellectual capital it would otherwise have \n",
    "lost.\n",
    "\n",
    "The best way to tempt the old to go on working may be to build on such ‘bridge’ jobs: part- time or \n",
    "temporary employment that creates a more gradual transition from full-time work to retirement. \n",
    "Studies have found that, in the United States, nearly half of all men and women who had been in \n",
    "full-time jobs in middle age moved into such ‘bridge’ jobs at the end of their working lives. In \n",
    "general, it is the best-paid and worst-paid who carry on working. There seem to be two very \n",
    "different types of bridge job-holder – those who continue working because they have to and those \n",
    "who continue working because they want to, even though they could afford to retire.\n",
    "\n",
    "If the job market grows more flexible, the old may find more jobs that suit them. Often, they will be \n",
    "self-employed. Sometimes, they may start their own businesses: a study by David Storey of \n",
    "Warwick University found that in Britain 70% of businesses started by people over 55 survived, \n",
    "compared with an overall national average of only 19%. But whatever pattern of employment they \n",
    "choose, in the coming years the skills of these ‘grey workers’ will have to be increasingly \n",
    "acknowledged and rewarded.\n",
    "\"\"\""
   ]
  },
  {
   "cell_type": "code",
   "execution_count": 48,
   "metadata": {},
   "outputs": [
    {
     "name": "stdout",
     "output_type": "stream",
     "text": [
      "Academic Reading Sample Task – Multiple Choice: one answer\n",
      "[Note: This is an extract from a Part 1 text about older people in the workforce.]\n",
      "The general assumption is that older workers are paid more in spite of, rather than because of, their productivity. That might partly explain why, when employers are under pressure to cut costs, they persuade a 55-year old to take early retirement. Take away seniority-based pay scales, and older workers may become a much more attractive employment proposition. But most employers and many workers are uncomfortable with the idea of reducing someone’s pay in later life –although manual workers on piece-rates often earn less as they get older. So retaining the services of older workers may mean employing them in different ways.\n",
      "One innovation was devised by IBM Belgium. Faced with the need to cut staff costs, and having decided to concentrate cuts on 55 to 60-year olds, IBM set up a separate company called Skill Team, which re-employed any of the early retired who wanted to go on working up to the age of 60. An employee who joined Skill Team at the age of 55 on a five-year contract would work for 58% of his time, over the full period, for 88% of his last IBM salary. The company offered services to IBM, thus allowing it to retain access to some of the intellectual capital it would otherwise have lost.\n",
      "The best way to tempt the old to go on working may be to build on such ‘bridge’ jobs: part- time or temporary employment that creates a more gradual transition from full-time work to retirement. Studies have found that, in the United States, nearly half of all men and women who had been in full-time jobs in middle age moved into such ‘bridge’ jobs at the end of their working lives. In general, it is the best-paid and worst-paid who carry on working. There seem to be two very different types of bridge job-holder – those who continue working because they have to and those who continue working because they want to, even though they could afford to retire.\n",
      "If the job market grows more flexible, the old may find more jobs that suit them. Often, they will be self-employed. Sometimes, they may start their own businesses: a study by David Storey of Warwick University found that in Britain 70% of businesses started by people over 55 survived, compared with an overall national average of only 19%. But whatever pattern of employment they choose, in the coming years the skills of these ‘grey workers’ will have to be increasingly acknowledged and rewarded.\n",
      "\n"
     ]
    }
   ],
   "source": [
    "# Function to remove unnecessary newlines\n",
    "def remove_newlines(raw_text):\n",
    "    return re.sub(r'(?<!\\.)\\n', '', raw_text)\n",
    "\n",
    "new_title = remove_newlines(raw_passage_title)\n",
    "new_subtitle = remove_newlines(raw_passage_subtitle)\n",
    "new_text = remove_newlines(raw_passage_text)\n",
    "print(new_title)\n",
    "print(new_subtitle)\n",
    "print(new_text)\n"
   ]
  },
  {
   "cell_type": "code",
   "execution_count": 53,
   "metadata": {},
   "outputs": [],
   "source": [
    "raw_question_instructions = \"\"\"\\\n",
    "Questions 1 – 4\n",
    "Choose the correct letter, A, B, C or D.\n",
    "Write the correct letter in boxes 1-4 on your answer sheet.\n",
    "\"\"\"\n",
    "\n",
    "raw_questions_text= \"\"\"\\\n",
    "1 In paragraph one, the writer suggests that companies could consider\n",
    "A abolishing pay schemes that are based on age.\n",
    "B avoiding pay that is based on piece-rates.\n",
    "C increasing pay for older workers.\n",
    "D equipping older workers with new skills.\n",
    "2 Skill Team is an example of a company which\n",
    "A offers older workers increases in salary.\n",
    "B allows people to continue working for as long as they want.\n",
    "C allows the expertise of older workers to be put to use.\n",
    "D treats older and younger workers equally.\n",
    "3 According to the writer, ‘bridge’ jobs\n",
    "A tend to attract people in middle-salary ranges.\n",
    "B are better paid than some full-time jobs.\n",
    "C originated in the United States.\n",
    "D appeal to distinct groups of older workers.\n",
    "4 David Storey’s study found that\n",
    "A people demand more from their work as they get older.\n",
    "B older people are good at running their own businesses.\n",
    "C an increasing number of old people are self-employed.\n",
    "D few young people have their own businesses.\n",
    "\"\"\"\n",
    "\n",
    "raw_answers_text = \"\"\"\\\n",
    "1 A ■ abolishing pay schemes that are based on age\n",
    "2 C ■ allows the expertise of older workers to be put to use\n",
    "3 D ■ appeal to distinct groups of older workers\n",
    "4 B ■ older people are good at running their own businesses\n",
    "\"\"\""
   ]
  },
  {
   "cell_type": "code",
   "execution_count": 56,
   "metadata": {},
   "outputs": [
    {
     "data": {
      "text/plain": [
       "['1 A ■ abolishing pay schemes that are based on age',\n",
       " '2 C ■ allows the expertise of older workers to be put to use',\n",
       " '3 D ■ appeal to distinct groups of older workers',\n",
       " '4 B ■ older people are good at running their own businesses\\n']"
      ]
     },
     "execution_count": 56,
     "metadata": {},
     "output_type": "execute_result"
    }
   ],
   "source": [
    "# Split raw questions text into a list of questions\n",
    "# We will say that any numeric following a new line and followed by a space is a question number\n",
    "questions = re.split(r'\\n(?=\\d+\\s)', raw_answers_text)\n",
    "questions"
   ]
  },
  {
   "cell_type": "code",
   "execution_count": 57,
   "metadata": {},
   "outputs": [
    {
     "name": "stdout",
     "output_type": "stream",
     "text": [
      "{'questionType': 'multiple_choice', 'taskDescription': 'Questions 1 – 4\\nChoose the correct letter, A, B, C or D.\\nWrite the correct letter in boxes 1-4 on your answer sheet.\\n', 'questions': [{'questionNumber': 1, 'questionText': 'In paragraph one, the writer suggests that companies could consider', 'questionOptions': [('A', 'abolishing pay schemes that are based on age.'), ('B', 'avoiding pay that is based on piece-rates.'), ('C', 'increasing pay for older workers.'), ('D', 'equipping older workers with new skills.')], 'correctAnswer': ('A', 'abolishing pay schemes that are based on age')}, {'questionNumber': 2, 'questionText': 'Skill Team is an example of a company which', 'questionOptions': [('A', 'offers older workers increases in salary.'), ('B', 'allows people to continue working for as long as they want.'), ('C', 'allows the expertise of older workers to be put to use.'), ('D', 'treats older and younger workers equally.')], 'correctAnswer': ('C', 'allows the expertise of older workers to be put to use')}, {'questionNumber': 3, 'questionText': 'According to the writer, ‘bridge’ jobs', 'questionOptions': [('A', 'tend to attract people in middle-salary ranges.'), ('B', 'are better paid than some full-time jobs.'), ('C', 'originated in the United States.'), ('D', 'appeal to distinct groups of older workers.')], 'correctAnswer': ('D', 'appeal to distinct groups of older workers')}, {'questionNumber': 4, 'questionText': 'David Storey’s study found that', 'questionOptions': [('A', 'people demand more from their work as they get older.'), ('B', 'older people are good at running their own businesses.'), ('C', 'an increasing number of old people are self-employed.'), ('D', 'few young people have their own businesses.')], 'correctAnswer': ('B', 'older people are good at running their own businesses')}]}\n"
     ]
    }
   ],
   "source": [
    "def parse_questions_mcq(raw_question_instructions, raw_questions_text, raw_answers_text):\n",
    "    question_type = \"multiple_choice\"\n",
    "    questions = []\n",
    "    question_pattern = re.compile(r'(\\d+)[^a-zA-Z\\d:]+(.*)')\n",
    "    option_pattern = re.compile(r'([A-Z])[^a-zA-Z\\d:]+(.*)')\n",
    "    answer_pattern = re.compile(r'(\\d+)[^a-zA-Z\\d:]+([A-Z])[^a-zA-Z\\d:]+(.*)')\n",
    "    \n",
    "    #  We will say that any numeric following a new line and followed by a space is a question number\n",
    "    raw_questions_list = re.split(r'\\n(?=\\d+\\s)', raw_questions_text)\n",
    "    raw_answers_list = re.split(r'\\n(?=\\d+\\s)', raw_answers_text)\n",
    "\n",
    "    for q,a in zip(raw_questions_list, raw_answers_list):\n",
    "        match = question_pattern.match(q.strip())\n",
    "        if match:\n",
    "            question_number = int(match.group(1))\n",
    "            question_text = match.group(2).strip()\n",
    "            question_options = list(map(lambda x: option_pattern.match(x.strip()).groups(),q.splitlines()[1:]))\n",
    "            correct_answer = answer_pattern.match(a.strip()).groups()[1:]\n",
    "            questions.append({\n",
    "                \"questionNumber\": question_number,\n",
    "                \"questionText\": question_text,\n",
    "                \"questionOptions\": question_options,\n",
    "                \"correctAnswer\": correct_answer\n",
    "            })\n",
    "    return {\n",
    "        \"questionType\": question_type,\n",
    "        \"taskDescription\": raw_question_instructions,\n",
    "        \"questions\": questions\n",
    "    }\n",
    "\n",
    "mcq_json = parse_questions_mcq(raw_question_instructions, raw_questions_text, raw_answers_text)\n",
    "print(mcq_json)\n"
   ]
  },
  {
   "cell_type": "code",
   "execution_count": 122,
   "metadata": {},
   "outputs": [
    {
     "name": "stdout",
     "output_type": "stream",
     "text": [
      "{\n",
      "  \"taskTitle\": \"Academic Reading Sample Task \\u2013 Table Completion\",\n",
      "  \"taskSubtitle\": \"[Note: This is an extract from an Academic Reading passage on the subject of dung beetles. The text preceding this extract gave some background facts about dung beetles, and went on to describe a decision to introduce non-native varieties to Australia.]\",\n",
      "  \"passageTitle\": \"\",\n",
      "  \"passageSubtitle\": \"\",\n",
      "  \"passageText\": \"Introducing dung1 beetles into a pasture is a simple process: approximately 1,500 beetles are released, a handful at a time, into fresh cow pats2 in the cow pasture. The beetles immediately disappear beneath the pats digging and tunnelling and, if they successfully adapt to their new environment, soon become a permanent, self-sustaining part of the local ecology. In time they multiply and within three or four years the benefits to the pasture are obvious.\\nDung beetles work from the inside of the pat so they are sheltered from predators such as birds and foxes. Most species burrow into the soil and bury dung in tunnels directly underneath the pats, which are hollowed out from within. Some large species originating from France excavate tunnels to a depth of approximately 30 cm below the dung pat.\\nThese beetles make sausage-shaped brood chambers along the tunnels. The shallowest tunnels belong to a much smaller Spanish species that buries dung in chambers that hang like fruit from the branches of a pear tree. South African beetles dig narrow tunnels of approximately 20 cm below the surface of the pat. Some surface-dwelling beetles, including a South African species, cut perfectly-shaped balls from the pat, which are rolled away and attached to the bases of plants.\\nFor maximum dung burial in spring, summer and autumn, farmers require a variety of species with overlapping periods of activity. In the cooler environments of the state of Victoria, the large French species (2.5 cms long), is matched with smaller (half this size), temperate-climate Spanish species. The former are slow to recover from the winter cold and produce only one or two generations of offspring from late spring until autumn. The latter, which multiply rapidly in early spring, produce two to five generations annually. The South African ball-rolling species, being a sub-tropical beetle, prefers the climate of northern and coastal New South Wales where it commonly works with the South African tunneling species. In warmer climates, many species are active for longer periods of the year.\\nGlossary1. dung: the droppings or excreta of animals.\\n2. cow pats: droppings of cows.\\n\",\n",
      "  \"questionsList\": [\n",
      "    {\n",
      "      \"questionType\": \"table_completion\",\n",
      "      \"taskDescription\": \"Question 9 \\u2013 13\\nComplete the table below.\\nChoose NO MORE THAN THREE WORDS from the passage for each answer.\\nWrite your answers in boxes 9-13 on your answer sheet.\\n\",\n",
      "      \"questionContent\": [\n",
      "        [\n",
      "          \"Species Size\",\n",
      "          \"Preferred climate\",\n",
      "          \"Complementary species\",\n",
      "          \"Start of active period\",\n",
      "          \"Number of generations per year\"\n",
      "        ],\n",
      "        [\n",
      "          \"French\",\n",
      "          \"2.5 cm\",\n",
      "          \"cool\",\n",
      "          \"Spanish\",\n",
      "          \"late spring\",\n",
      "          \"1 - 2\"\n",
      "        ],\n",
      "        [\n",
      "          \"Spanish\",\n",
      "          \"1.25 cm\",\n",
      "          \"[9]\",\n",
      "          \"\",\n",
      "          \"[10]\",\n",
      "          \"[11]\"\n",
      "        ],\n",
      "        [\n",
      "          \"South African ball roller\",\n",
      "          \"\",\n",
      "          \"[12]\",\n",
      "          \"[13]\",\n",
      "          \"\",\n",
      "          \"\"\n",
      "        ]\n",
      "      ],\n",
      "      \"questions\": [\n",
      "        {\n",
      "          \"questionNumber\": 9,\n",
      "          \"correctAnswer\": \"temperate\"\n",
      "        },\n",
      "        {\n",
      "          \"questionNumber\": 10,\n",
      "          \"correctAnswer\": \"early spring\"\n",
      "        },\n",
      "        {\n",
      "          \"questionNumber\": 11,\n",
      "          \"correctAnswer\": \"two to five / 2-5\"\n",
      "        },\n",
      "        {\n",
      "          \"questionNumber\": 12,\n",
      "          \"correctAnswer\": \"sub-tropical\"\n",
      "        },\n",
      "        {\n",
      "          \"questionNumber\": 13,\n",
      "          \"correctAnswer\": \"South African tunneling/tunnelling\"\n",
      "        }\n",
      "      ]\n",
      "    }\n",
      "  ]\n",
      "}\n"
     ]
    }
   ],
   "source": [
    "def parse_passage_section(data):\n",
    "    parsed_dict = {}\n",
    "    parsed_dict[\"taskTitle\"] = remove_newlines(data['raw_task_title'])\n",
    "    parsed_dict[\"taskSubtitle\"] = remove_newlines(data['raw_task_subtitle'])\n",
    "    parsed_dict[\"passageTitle\"] = remove_newlines(data['raw_passage_title'])\n",
    "    parsed_dict[\"passageSubtitle\"] = remove_newlines(data['raw_passage_subtitle'])\n",
    "    parsed_dict[\"passageText\"] = remove_newlines(data['raw_passage_text'])\n",
    "    return parsed_dict\n",
    "\n",
    "def parse_from_yaml_file(filename):\n",
    "    # Parse from raw yaml file\n",
    "    with open(filename, 'r') as f:\n",
    "        data = yaml.safe_load(f)\n",
    "\n",
    "    parsed_dict = parse_passage_section(data)\n",
    "    parsed_dict[\"questionsList\"] = []\n",
    "    for question_task in data['questions_list']:\n",
    "        question_type = question_task['question_type']\n",
    "        if question_type == \"multiple_choice\":\n",
    "            questions_list_obj = parse_questions_mcq(question_task['raw_question_instructions'], question_task['raw_questions_text'], question_task['raw_answers_text'])\n",
    "            parsed_dict[\"questionsList\"].append(questions_list_obj)\n",
    "        elif question_type == \"table_completion\":\n",
    "            questions_list_obj = parse_questions_table(question_task)\n",
    "            parsed_dict[\"questionsList\"].append(questions_list_obj)\n",
    "        elif question_type == \"true_false_notgiven\":\n",
    "            pass\n",
    "        # Add more question types here\n",
    "\n",
    "    return parsed_dict\n",
    "\n",
    "filename = \"table.yaml\"\n",
    "parsed_dict = parse_from_yaml_file(filename)\n",
    "parsed_json = json.dumps(parsed_dict, indent=2)\n",
    "print(parsed_json)"
   ]
  },
  {
   "cell_type": "code",
   "execution_count": 123,
   "metadata": {},
   "outputs": [],
   "source": [
    "filename = \"table.json\"\n",
    "with open(filename, 'w') as f:\n",
    "    f.write(parsed_json)"
   ]
  },
  {
   "cell_type": "markdown",
   "metadata": {},
   "source": []
  },
  {
   "cell_type": "markdown",
   "metadata": {},
   "source": []
  },
  {
   "cell_type": "markdown",
   "metadata": {},
   "source": [
    "## Table Completion"
   ]
  },
  {
   "cell_type": "code",
   "execution_count": 118,
   "metadata": {},
   "outputs": [
    {
     "name": "stdout",
     "output_type": "stream",
     "text": [
      "dict_keys(['raw_task_title', 'raw_task_subtitle', 'raw_passage_title', 'raw_passage_subtitle', 'raw_passage_text', 'questions_list'])\n"
     ]
    }
   ],
   "source": [
    "filename = \"table.yaml\"\n",
    "with open(filename, 'r') as f:\n",
    "    raw_data = yaml.safe_load(f)\n",
    "\n",
    "print(raw_data.keys())"
   ]
  },
  {
   "cell_type": "code",
   "execution_count": null,
   "metadata": {},
   "outputs": [],
   "source": [
    "raw_questions_text = raw_data['questions_list'][0]['raw_questions_text']\n",
    "raw_tablerows_list = re.split(r'\\n', raw_questions_text.strip())\n",
    "raw_tablerows_list\n",
    "tablerows_list = [[r.strip() for r in re.split(r'\\|',row) ] for row in raw_tablerows_list]\n",
    "tablerows_list"
   ]
  },
  {
   "cell_type": "code",
   "execution_count": 104,
   "metadata": {},
   "outputs": [
    {
     "data": {
      "text/plain": [
       "['9 temperate',\n",
       " '10 early spring',\n",
       " '11 two to five / 2-5',\n",
       " '12 sub-tropical',\n",
       " '13 South African tunneling/tunnelling\\n']"
      ]
     },
     "execution_count": 104,
     "metadata": {},
     "output_type": "execute_result"
    }
   ],
   "source": [
    "raw_answers_text = raw_data['questions_list'][0]['raw_answers_text']\n",
    "answers_list = re.split(r'\\n(?=\\d+\\s)', raw_answers_text)\n",
    "answers_list"
   ]
  },
  {
   "cell_type": "code",
   "execution_count": 120,
   "metadata": {},
   "outputs": [
    {
     "data": {
      "text/plain": [
       "{'questionType': 'table_completion',\n",
       " 'taskDescription': 'Question 9 – 13\\nComplete the table below.\\nChoose NO MORE THAN THREE WORDS from the passage for each answer.\\nWrite your answers in boxes 9-13 on your answer sheet.\\n',\n",
       " 'questionContent': [['Species Size',\n",
       "   'Preferred climate',\n",
       "   'Complementary species',\n",
       "   'Start of active period',\n",
       "   'Number of generations per year'],\n",
       "  ['French', '2.5 cm', 'cool', 'Spanish', 'late spring', '1 - 2'],\n",
       "  ['Spanish', '1.25 cm', '[9]', '', '[10]', '[11]'],\n",
       "  ['South African ball roller', '', '[12]', '[13]', '', '']],\n",
       " 'questions': [{'questionNumber': 9, 'correctAnswer': 'temperate'},\n",
       "  {'questionNumber': 10, 'correctAnswer': 'early spring'},\n",
       "  {'questionNumber': 11, 'correctAnswer': 'two to five / 2-5'},\n",
       "  {'questionNumber': 12, 'correctAnswer': 'sub-tropical'},\n",
       "  {'questionNumber': 13,\n",
       "   'correctAnswer': 'South African tunneling/tunnelling'}]}"
      ]
     },
     "execution_count": 120,
     "metadata": {},
     "output_type": "execute_result"
    }
   ],
   "source": [
    "def parse_questions_table(question_task):\n",
    "    question_type = \"table_completion\"\n",
    "    raw_question_instructions, raw_questions_text, raw_answers_text = question_task['raw_question_instructions'], question_task['raw_questions_text'], question_task['raw_answers_text']\n",
    "    questions = []\n",
    "    answer_pattern = re.compile(r'(\\d+)[^a-zA-Z\\d:]+(.*)')\n",
    "    \n",
    "    #  We will say that any numeric following a new line and followed by a space is a question number\n",
    "    raw_tablerows_list = re.split(r'\\n', raw_questions_text.strip())\n",
    "    tablerows_list = [[r.strip() for r in re.split(r'\\|',row) ] for row in raw_tablerows_list]\n",
    "    answers_list = re.split(r'\\n(?=\\d+\\s)', raw_answers_text)\n",
    "\n",
    "    for a in answers_list:\n",
    "        match = answer_pattern.match(a.strip())\n",
    "        question_number = int(match.group(1))\n",
    "        correct_answer = answer_pattern.match(a.strip()).group(2)\n",
    "        questions.append({\n",
    "            \"questionNumber\": question_number,\n",
    "            \"correctAnswer\": correct_answer\n",
    "        })\n",
    "    return {\n",
    "        \"questionType\": question_type,\n",
    "        \"taskDescription\": raw_question_instructions,\n",
    "        \"questionContent\": tablerows_list,\n",
    "        \"questions\": questions\n",
    "    }\n",
    "\n",
    "table_json = parse_questions_table(raw_data['questions_list'][0])\n",
    "table_json"
   ]
  }
 ],
 "metadata": {
  "kernelspec": {
   "display_name": "Python 3",
   "language": "python",
   "name": "python3"
  },
  "language_info": {
   "codemirror_mode": {
    "name": "ipython",
    "version": 3
   },
   "file_extension": ".py",
   "mimetype": "text/x-python",
   "name": "python",
   "nbconvert_exporter": "python",
   "pygments_lexer": "ipython3",
   "version": "3.9.19"
  }
 },
 "nbformat": 4,
 "nbformat_minor": 2
}
